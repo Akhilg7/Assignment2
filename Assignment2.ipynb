{
  "nbformat": 4,
  "nbformat_minor": 0,
  "metadata": {
    "colab": {
      "name": "Assignment2.ipynb",
      "provenance": [],
      "collapsed_sections": []
    },
    "kernelspec": {
      "name": "python3",
      "display_name": "Python 3"
    },
    "language_info": {
      "name": "python"
    }
  },
  "cells": [
    {
      "cell_type": "markdown",
      "metadata": {
        "id": "-VtlvNCKx5jp"
      },
      "source": [
        "\n",
        "Write a program which accepts a sequence of comma-separated numbers from console and generate a list."
      ]
    },
    {
      "cell_type": "code",
      "metadata": {
        "colab": {
          "base_uri": "https://localhost:8080/"
        },
        "id": "jrMlx6H2kKcw",
        "outputId": "3639abc9-ccb4-4046-86a1-03fa3a1d12a1"
      },
      "source": [
        "l=input(\"enter the comma seperated values:\")\n",
        "list=l.split(\",\")\n",
        "list"
      ],
      "execution_count": null,
      "outputs": [
        {
          "output_type": "stream",
          "text": [
            "enter the comma seperated values1,2,3,4\n",
            "<class 'str'>\n"
          ],
          "name": "stdout"
        },
        {
          "output_type": "execute_result",
          "data": {
            "text/plain": [
              "['1', '2', '3', '4']"
            ]
          },
          "metadata": {
            "tags": []
          },
          "execution_count": 11
        }
      ]
    },
    {
      "cell_type": "markdown",
      "metadata": {
        "id": "TsHlRwY3knvt"
      },
      "source": [
        "\n",
        " Create the below pattern using nested for loop in Python. \n"
      ]
    },
    {
      "cell_type": "code",
      "metadata": {
        "colab": {
          "base_uri": "https://localhost:8080/"
        },
        "id": "XwaBbkK8kti-",
        "outputId": "7e99a257-4bd6-4cb4-e363-1fe11798ef5a"
      },
      "source": [
        "\n",
        "#this for loop executes from 1 to 6\n",
        "for i in range(1,6):\n",
        "  #this for loop executes from 0 to i\n",
        "  for j in range(i):\n",
        "    print(\"* \",end=' ')\n",
        "  print()\n",
        "\n",
        "#this for loop executes from 4 to 1 with decreasing step\n",
        "for i in range(4,0,-1):\n",
        "  #this for loop executes from 0 to i\n",
        "  for j in range(i):\n",
        "    print(\"* \",end=' ')\n",
        "  print()"
      ],
      "execution_count": null,
      "outputs": [
        {
          "output_type": "stream",
          "text": [
            "*  \n",
            "*  *  \n",
            "*  *  *  \n",
            "*  *  *  *  \n",
            "*  *  *  *  *  \n",
            "*  *  *  *  \n",
            "*  *  *  \n",
            "*  *  \n",
            "*  \n"
          ],
          "name": "stdout"
        }
      ]
    },
    {
      "cell_type": "markdown",
      "metadata": {
        "id": "iHCQatu5osaM"
      },
      "source": [
        "2.Write a program to reverse a word after accepting input from the user"
      ]
    },
    {
      "cell_type": "code",
      "metadata": {
        "colab": {
          "base_uri": "https://localhost:8080/"
        },
        "id": "iXbNyIK9ngM-",
        "outputId": "c653fc00-9d0f-4dd3-a892-50bbe5baabfc"
      },
      "source": [
        "#Approach 1\n",
        "s=input(\"Enter the word:\")\n",
        "#to reverse the string using -ve indexing\n",
        "a=s[::-1]\n",
        "print(\"Before reversing:\",s)\n",
        "print(\"After reversing :\",a)"
      ],
      "execution_count": null,
      "outputs": [
        {
          "output_type": "stream",
          "text": [
            "Enter the word:ineuron\n",
            "Before reversing: ineuron\n",
            "After reversing : norueni\n"
          ],
          "name": "stdout"
        }
      ]
    },
    {
      "cell_type": "code",
      "metadata": {
        "colab": {
          "base_uri": "https://localhost:8080/"
        },
        "id": "GwbYS8gWrwBX",
        "outputId": "6f8e803c-9d2f-40ee-dfaa-0a65395fabd4"
      },
      "source": [
        "#Approach 2\n",
        "s=input(\"Enter the word:\")\n",
        "#calculating length of the string\n",
        "l=len(s)-1\n",
        "print(l)\n",
        "o=\"\"\n",
        "while l>=0:\n",
        "  o=o+s[l]\n",
        "  l-=1\n",
        "print(\"Before reversing:\",s)\n",
        "print(\"After reversing :\",o)"
      ],
      "execution_count": null,
      "outputs": [
        {
          "output_type": "stream",
          "text": [
            "Enter the word:ineuron\n",
            "6\n",
            "Before reversing: ineuron\n",
            "After reversing : norueni\n"
          ],
          "name": "stdout"
        }
      ]
    }
  ]
}